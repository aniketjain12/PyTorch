{
 "cells": [
  {
   "cell_type": "code",
   "execution_count": 1,
   "id": "a843639c-e1cc-4548-9708-58b59b1b79a7",
   "metadata": {},
   "outputs": [
    {
     "name": "stdout",
     "output_type": "stream",
     "text": [
      "tensor([[0.3401, 0.8042, 0.5353],\n",
      "        [0.6047, 0.3208, 0.8642],\n",
      "        [0.1493, 0.3751, 0.7160],\n",
      "        [0.4175, 0.9959, 0.1544],\n",
      "        [0.0742, 0.4730, 0.8002]])\n"
     ]
    }
   ],
   "source": [
    "import torch\n",
    "x = torch.rand(5, 3)\n",
    "print(x)"
   ]
  },
  {
   "cell_type": "code",
   "execution_count": 2,
   "id": "d7ebf348-f7c4-40ac-9c48-05b15f1fc2bf",
   "metadata": {},
   "outputs": [],
   "source": [
    "def activation(x):         #sigmoid function\n",
    "    return 1 / (1+ torch.exp(-x))"
   ]
  },
  {
   "cell_type": "code",
   "execution_count": 3,
   "id": "eba8c544-65b0-4d5d-9e87-5f8c1b7adc1c",
   "metadata": {},
   "outputs": [
    {
     "name": "stdout",
     "output_type": "stream",
     "text": [
      "features: tensor([[-0.1468,  0.7861,  0.9468, -1.1143,  1.6908]])\n",
      "weights: tensor([[-0.8948, -0.3556,  1.2324,  0.1382, -1.6822]])\n",
      "bias: tensor([[0.3177]])\n"
     ]
    }
   ],
   "source": [
    "torch.manual_seed(7)\n",
    "features = torch.randn((1,5))\n",
    "print(\"features:\",features)\n",
    "weights = torch.randn_like(features)\n",
    "print(\"weights:\",weights)\n",
    "bias = torch.randn((1,1))\n",
    "print(\"bias:\",bias)"
   ]
  },
  {
   "cell_type": "code",
   "execution_count": 4,
   "id": "46dfbb75-94a6-4078-a409-48a258b6c758",
   "metadata": {},
   "outputs": [
    {
     "name": "stdout",
     "output_type": "stream",
     "text": [
      "y: tensor([[0.1595]])\n"
     ]
    }
   ],
   "source": [
    "'''h = torch.matmul(features,weights.t())\n",
    "print(\"h:\",h)\n",
    "sum = torch.sum(h, bias)'''\n",
    "\n",
    "y = activation(torch.sum(features * weights) + bias)\n",
    "print(\"y:\",y)"
   ]
  },
  {
   "cell_type": "code",
   "execution_count": 5,
   "id": "940073f0-1be0-4584-91cb-113fdc81ec1b",
   "metadata": {},
   "outputs": [
    {
     "data": {
      "text/plain": [
       "tensor([[0.1595]])"
      ]
     },
     "execution_count": 5,
     "metadata": {},
     "output_type": "execute_result"
    }
   ],
   "source": [
    "'''weights = weights.view(5,1)\n",
    "mul = torch.mm(features, weights)\n",
    "# mul = torch.matmul(features,weights)\n",
    "print(\"mul:\",mul)'''\n",
    "y = activation(torch.mm(features, weights.view(5,1))+ bias)\n",
    "y"
   ]
  },
  {
   "cell_type": "code",
   "execution_count": 6,
   "id": "b66a5105-a7a4-43e1-8089-30d7b34e633d",
   "metadata": {},
   "outputs": [],
   "source": [
    "torch.manual_seed(7)\n",
    "\n",
    "features = torch.randn((1,3))\n",
    "'''print(\"features:\",features)\n",
    "print(features.shape[1])\n",
    "'''\n",
    "n_input = features.shape[1]\n",
    "#print(\"input:\",n_input)\n",
    "n_hidden = 2\n",
    "n_output = 1\n",
    "W1 = torch.randn(n_input, n_hidden)\n",
    "#print('w1:',W1)\n",
    "W2 = torch.randn(n_hidden, n_output)\n",
    "#print('w2:',W2)\n",
    "\n",
    "B1 = torch.randn((1, n_hidden))\n",
    "B2 = torch.randn((1, n_output))"
   ]
  },
  {
   "cell_type": "code",
   "execution_count": 7,
   "id": "87a5b5c4-5963-4d47-90ed-0866f438a54e",
   "metadata": {},
   "outputs": [
    {
     "name": "stdout",
     "output_type": "stream",
     "text": [
      "tensor([[0.3171]])\n"
     ]
    }
   ],
   "source": [
    "y1 = activation(torch.mm(features, W1)+ B1)\n",
    "y = activation(torch.mm(y1, W2)+ B2)\n",
    "print(y)"
   ]
  },
  {
   "cell_type": "code",
   "execution_count": 8,
   "id": "677cb77c-0f54-4122-a742-1e7ee0a13849",
   "metadata": {},
   "outputs": [
    {
     "data": {
      "text/plain": [
       "array([[0.05880071, 0.18318832, 0.09222065],\n",
       "       [0.47882719, 0.80340218, 0.03579095],\n",
       "       [0.18248002, 0.80172005, 0.53697275],\n",
       "       [0.56561538, 0.39048819, 0.14571046]])"
      ]
     },
     "execution_count": 8,
     "metadata": {},
     "output_type": "execute_result"
    }
   ],
   "source": [
    "import numpy as np\n",
    "a = np.random.rand(4,3)\n",
    "a"
   ]
  },
  {
   "cell_type": "code",
   "execution_count": 9,
   "id": "54eaba08-cec4-4a5e-b26a-f4b5057249f3",
   "metadata": {},
   "outputs": [
    {
     "data": {
      "text/plain": [
       "tensor([[0.0588, 0.1832, 0.0922],\n",
       "        [0.4788, 0.8034, 0.0358],\n",
       "        [0.1825, 0.8017, 0.5370],\n",
       "        [0.5656, 0.3905, 0.1457]], dtype=torch.float64)"
      ]
     },
     "execution_count": 9,
     "metadata": {},
     "output_type": "execute_result"
    }
   ],
   "source": [
    "b = torch.from_numpy(a)\n",
    "b"
   ]
  },
  {
   "cell_type": "code",
   "execution_count": 10,
   "id": "444ec0de-7044-4831-add3-5ce356172fd3",
   "metadata": {},
   "outputs": [
    {
     "data": {
      "text/plain": [
       "array([[0.05880071, 0.18318832, 0.09222065],\n",
       "       [0.47882719, 0.80340218, 0.03579095],\n",
       "       [0.18248002, 0.80172005, 0.53697275],\n",
       "       [0.56561538, 0.39048819, 0.14571046]])"
      ]
     },
     "execution_count": 10,
     "metadata": {},
     "output_type": "execute_result"
    }
   ],
   "source": [
    "b.numpy()"
   ]
  },
  {
   "cell_type": "code",
   "execution_count": 11,
   "id": "a5111f68-a9ab-4c48-806e-a40a1d138798",
   "metadata": {},
   "outputs": [
    {
     "data": {
      "text/plain": [
       "tensor([[0.1176, 0.3664, 0.1844],\n",
       "        [0.9577, 1.6068, 0.0716],\n",
       "        [0.3650, 1.6034, 1.0739],\n",
       "        [1.1312, 0.7810, 0.2914]], dtype=torch.float64)"
      ]
     },
     "execution_count": 11,
     "metadata": {},
     "output_type": "execute_result"
    }
   ],
   "source": [
    "b.mul_(2)"
   ]
  },
  {
   "cell_type": "code",
   "execution_count": 12,
   "id": "d7ba881c-04e8-40e9-99b4-313a6cbec716",
   "metadata": {},
   "outputs": [
    {
     "data": {
      "text/plain": [
       "array([[0.11760143, 0.36637664, 0.18444131],\n",
       "       [0.95765439, 1.60680437, 0.07158189],\n",
       "       [0.36496005, 1.60344009, 1.07394549],\n",
       "       [1.13123076, 0.78097639, 0.29142092]])"
      ]
     },
     "execution_count": 12,
     "metadata": {},
     "output_type": "execute_result"
    }
   ],
   "source": [
    "a"
   ]
  },
  {
   "cell_type": "code",
   "execution_count": null,
   "id": "ce607666-ba9d-4e32-b724-132d00f102d9",
   "metadata": {},
   "outputs": [],
   "source": []
  }
 ],
 "metadata": {
  "kernelspec": {
   "display_name": "Python 3 (ipykernel)",
   "language": "python",
   "name": "python3"
  },
  "language_info": {
   "codemirror_mode": {
    "name": "ipython",
    "version": 3
   },
   "file_extension": ".py",
   "mimetype": "text/x-python",
   "name": "python",
   "nbconvert_exporter": "python",
   "pygments_lexer": "ipython3",
   "version": "3.11.5"
  }
 },
 "nbformat": 4,
 "nbformat_minor": 5
}
